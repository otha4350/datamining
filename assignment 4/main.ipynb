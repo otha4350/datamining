{
 "cells": [
  {
   "cell_type": "code",
   "execution_count": 1,
   "id": "84b35479",
   "metadata": {},
   "outputs": [],
   "source": [
    "import matplotlib.pyplot as plt\n",
    "import numpy as np\n",
    "import pandas as pd\n",
    "import math"
   ]
  },
  {
   "cell_type": "code",
   "execution_count": 6,
   "id": "320f58e4",
   "metadata": {},
   "outputs": [
    {
     "name": "stdout",
     "output_type": "stream",
     "text": [
      "<class 'pandas.core.frame.DataFrame'>\n",
      "RangeIndex: 1200 entries, 0 to 1199\n",
      "Data columns (total 4 columns):\n",
      " #   Column      Non-Null Count  Dtype  \n",
      "---  ------      --------------  -----  \n",
      " 0   Unnamed: 0  1200 non-null   int64  \n",
      " 1   X0          1200 non-null   float64\n",
      " 2   X1          1200 non-null   float64\n",
      " 3   y           1200 non-null   float64\n",
      "dtypes: float64(3), int64(1)\n",
      "memory usage: 37.6 KB\n",
      "<class 'pandas.core.frame.DataFrame'>\n",
      "Index: 960 entries, 0 to 1159\n",
      "Data columns (total 2 columns):\n",
      " #   Column      Non-Null Count  Dtype  \n",
      "---  ------      --------------  -----  \n",
      " 0   Unnamed: 0  960 non-null    int64  \n",
      " 1   X0          960 non-null    float64\n",
      "dtypes: float64(1), int64(1)\n",
      "memory usage: 22.5 KB\n",
      "<class 'pandas.core.frame.DataFrame'>\n",
      "Index: 240 entries, 800 to 1199\n",
      "Data columns (total 2 columns):\n",
      " #   Column      Non-Null Count  Dtype  \n",
      "---  ------      --------------  -----  \n",
      " 0   Unnamed: 0  240 non-null    int64  \n",
      " 1   X0          240 non-null    float64\n",
      "dtypes: float64(1), int64(1)\n",
      "memory usage: 5.6 KB\n"
     ]
    }
   ],
   "source": [
    "# Task 0\n",
    "dataframe = pd.read_csv(\"anomaly_data.csv\", delimiter=\",\")\n",
    "dataframe.info()\n",
    "\n",
    "X, y = dataframe.iloc[:, :2], dataframe.iloc[:, -1]\n",
    "\n",
    "normal = X[y == 0.0]\n",
    "anomalies = X[y == 1.0]\n",
    "\n",
    "normal.info()\n",
    "anomalies.info()"
   ]
  }
 ],
 "metadata": {
  "kernelspec": {
   "display_name": "venv (3.13.7)",
   "language": "python",
   "name": "python3"
  },
  "language_info": {
   "codemirror_mode": {
    "name": "ipython",
    "version": 3
   },
   "file_extension": ".py",
   "mimetype": "text/x-python",
   "name": "python",
   "nbconvert_exporter": "python",
   "pygments_lexer": "ipython3",
   "version": "3.13.7"
  }
 },
 "nbformat": 4,
 "nbformat_minor": 5
}
